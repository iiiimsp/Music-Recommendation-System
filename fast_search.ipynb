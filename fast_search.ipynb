{
 "cells": [
  {
   "cell_type": "markdown",
   "metadata": {},
   "source": [
    "Fast search: use a spatial data structure (e.g., LSH or partition trees) to implement accelerated search at query time. For this, it is best to use an existing library such as annoy or nmslib, and you will need to export the model parameters from Spark to work in your chosen environment. For full credit, you should provide a thorough evaluation of the efficiency gains provided by your spatial data structure over a brute-force search method."
   ]
  },
  {
   "cell_type": "code",
   "execution_count": 1,
   "metadata": {},
   "outputs": [],
   "source": [
    "import os\n",
    "import numpy as np\n",
    "import pandas as pd\n",
    "import getpass\n",
    "import itertools\n",
    "from glob import glob\n",
    "import time\n",
    "import datetime\n",
    "\n",
    "from pyspark import SparkContext\n",
    "from pyspark.sql import SparkSession\n",
    "from pyspark.sql import SQLContext\n",
    "from pyspark.sql import Row\n",
    "from pyspark.sql.functions import collect_list\n",
    "from pyspark.sql.types import IntegerType\n",
    "from pyspark.ml.feature import StringIndexer\n",
    "from pyspark.ml import Pipeline\n",
    "from pyspark.ml.recommendation import ALS, ALSModel\n",
    "from pyspark.mllib.evaluation import RegressionMetrics, RankingMetrics\n",
    "import matplotlib.pyplot as plt\n",
    "\n",
    "from annoy import AnnoyIndex\n",
    "from tqdm import tqdm_notebook as tqdm"
   ]
  },
  {
   "cell_type": "code",
   "execution_count": 2,
   "metadata": {},
   "outputs": [],
   "source": [
    "#Set up Spark locally\n",
    "builder = SparkSession.builder\n",
    "builder = builder.config(\"spark.executor.memory\", \"6G\")\n",
    "builder = builder.config(\"spark.driver.memory\", \"10G\")\n",
    "builder = builder.config(\"spark.driver.maxResultSize\", \"6G\")\n",
    "spark = builder.appName(\"Master\").getOrCreate()"
   ]
  },
  {
   "cell_type": "markdown",
   "metadata": {},
   "source": [
    "### Load train and validation"
   ]
  },
  {
   "cell_type": "code",
   "execution_count": 3,
   "metadata": {},
   "outputs": [],
   "source": [
    "#'/scratch/work/courses/DSGA1004-2021/MSD/cf_validation.parquet'\n",
    "#'/scratch/work/courses/DSGA1004-2021/MSD/cf_train.parquet'\n",
    "#'/home/yw5260/final-project-team_into4/cf_test.parquet'"
   ]
  },
  {
   "cell_type": "code",
   "execution_count": 4,
   "metadata": {},
   "outputs": [],
   "source": [
    "#Read from local parquet files (downloaded from the path above)\n",
    "train = spark.read.parquet('train.parquet')\n",
    "validation = spark.read.parquet('val.parquet')\n",
    "\n",
    "train.createOrReplaceTempView('train')\n",
    "validation.createOrReplaceTempView('validation')"
   ]
  },
  {
   "cell_type": "code",
   "execution_count": 5,
   "metadata": {},
   "outputs": [
    {
     "name": "stdout",
     "output_type": "stream",
     "text": [
      "+-----------------------+\n",
      "|count(DISTINCT user_id)|\n",
      "+-----------------------+\n",
      "|                1129318|\n",
      "+-----------------------+\n",
      "\n"
     ]
    }
   ],
   "source": [
    "spark.sql('SELECT COUNT(DISTINCT user_id) FROM train').show()"
   ]
  },
  {
   "cell_type": "code",
   "execution_count": 6,
   "metadata": {},
   "outputs": [
    {
     "name": "stdout",
     "output_type": "stream",
     "text": [
      "+-----------------------+\n",
      "|count(DISTINCT user_id)|\n",
      "+-----------------------+\n",
      "|                  10000|\n",
      "+-----------------------+\n",
      "\n"
     ]
    }
   ],
   "source": [
    "spark.sql('SELECT COUNT(DISTINCT user_id) FROM validation').show()"
   ]
  },
  {
   "cell_type": "code",
   "execution_count": 7,
   "metadata": {},
   "outputs": [
    {
     "name": "stdout",
     "output_type": "stream",
     "text": [
      "The number of distinct users from this train sample that also show up in validation\n",
      "+-----------------------+\n",
      "|count(DISTINCT user_id)|\n",
      "+-----------------------+\n",
      "|                   9194|\n",
      "+-----------------------+\n",
      "\n"
     ]
    }
   ],
   "source": [
    "#Option 1, use a random sample from train\n",
    "uniq_val = spark.sql('SELECT DISTINCT (user_id) FROM validation')\n",
    "uniq_val.createOrReplaceTempView('uniq_val')\n",
    "\n",
    "df = train.sample(False, 0.25, 42)\n",
    "df.createOrReplaceTempView('df')\n",
    "df_val = spark.sql('SELECT df.user_id, df.count, df.track_id FROM df INNER JOIN uniq_val ON df.user_id = uniq_val.user_id')\n",
    "df_val.createOrReplaceTempView('df_val')\n",
    "\n",
    "print('The number of distinct users from this train sample that also show up in validation')\n",
    "spark.sql('SELECT COUNT(DISTINCT user_id) FROM df_val').show()"
   ]
  },
  {
   "cell_type": "code",
   "execution_count": 8,
   "metadata": {},
   "outputs": [
    {
     "name": "stdout",
     "output_type": "stream",
     "text": [
      "The number of distinct users that show up in both train and validation\n",
      "+-----------------------+\n",
      "|count(DISTINCT user_id)|\n",
      "+-----------------------+\n",
      "|                  10000|\n",
      "+-----------------------+\n",
      "\n"
     ]
    }
   ],
   "source": [
    "#Option 2, select all rows for users that show up in both train and validation\n",
    "uniq_val = spark.sql('SELECT DISTINCT (user_id) FROM validation')\n",
    "uniq_val.createOrReplaceTempView('uniq_val')\n",
    "\n",
    "df = spark.sql('SELECT train.user_id, train.count, train.track_id FROM train INNER JOIN uniq_val ON train.user_id = uniq_val.user_id')\n",
    "df.createOrReplaceTempView('df')\n",
    "\n",
    "print('The number of distinct users that show up in both train and validation')\n",
    "spark.sql('SELECT COUNT(DISTINCT user_id) FROM df').show()"
   ]
  },
  {
   "cell_type": "code",
   "execution_count": 9,
   "metadata": {},
   "outputs": [],
   "source": [
    "indexers = [StringIndexer(inputCol=column, outputCol= 'indexed_' + column).setHandleInvalid('skip') for column in list(set(df.columns)-set(['count','__index_level_0__']))]\n",
    "    \n",
    "pipeline = Pipeline(stages=indexers)\n",
    "indexer_transform = pipeline.fit(df)\n",
    "    \n",
    "df = indexer_transform.transform(df)\n",
    "validation = indexer_transform.transform(validation)"
   ]
  },
  {
   "cell_type": "code",
   "execution_count": 11,
   "metadata": {},
   "outputs": [],
   "source": [
    "user_validation = validation.select('indexed_user_id').distinct()\n",
    "group_item = validation.select('indexed_user_id', 'indexed_track_id').groupBy('indexed_user_id')\n",
    "true_item = group_item.agg(collect_list('indexed_track_id').alias('true_track'))"
   ]
  },
  {
   "cell_type": "markdown",
   "metadata": {},
   "source": [
    "### Train ALS model using parameters combo from tuning\n",
    "### (Use option 2 for downsampling)"
   ]
  },
  {
   "cell_type": "code",
   "execution_count": 12,
   "metadata": {},
   "outputs": [],
   "source": [
    "rank = [200]  \n",
    "reg_params = [1]  \n",
    "alpha = [10]     \n",
    "param_choice = itertools.product(rank, reg_params, alpha)"
   ]
  },
  {
   "cell_type": "code",
   "execution_count": 13,
   "metadata": {},
   "outputs": [],
   "source": [
    "for i in param_choice:\n",
    "    als = ALS(rank = i[0], \n",
    "              maxIter = 10, \n",
    "              regParam = i[1], \n",
    "              userCol = 'indexed_user_id',\n",
    "              itemCol = 'indexed_track_id',\n",
    "              ratingCol = 'count', \n",
    "              implicitPrefs = True, \n",
    "              alpha = i[2],\n",
    "              nonnegative=False,\n",
    "              coldStartStrategy='drop')\n",
    "        \n",
    "    model = als.fit(df)"
   ]
  },
  {
   "cell_type": "code",
   "execution_count": 14,
   "metadata": {},
   "outputs": [],
   "source": [
    "#Extract user factors and item factors\n",
    "user_factor = model.userFactors\n",
    "item_factor = model.itemFactors\n",
    "user_df = user_factor.toPandas()\n",
    "item_df = item_factor.toPandas()"
   ]
  },
  {
   "cell_type": "code",
   "execution_count": 15,
   "metadata": {},
   "outputs": [
    {
     "data": {
      "text/html": [
       "<div>\n",
       "<style scoped>\n",
       "    .dataframe tbody tr th:only-of-type {\n",
       "        vertical-align: middle;\n",
       "    }\n",
       "\n",
       "    .dataframe tbody tr th {\n",
       "        vertical-align: top;\n",
       "    }\n",
       "\n",
       "    .dataframe thead th {\n",
       "        text-align: right;\n",
       "    }\n",
       "</style>\n",
       "<table border=\"1\" class=\"dataframe\">\n",
       "  <thead>\n",
       "    <tr style=\"text-align: right;\">\n",
       "      <th></th>\n",
       "      <th>id</th>\n",
       "      <th>features</th>\n",
       "    </tr>\n",
       "  </thead>\n",
       "  <tbody>\n",
       "    <tr>\n",
       "      <th>0</th>\n",
       "      <td>0</td>\n",
       "      <td>[0.09963960200548172, -0.12049102783203125, -0...</td>\n",
       "    </tr>\n",
       "    <tr>\n",
       "      <th>1</th>\n",
       "      <td>10</td>\n",
       "      <td>[0.19621501863002777, 0.18064600229263306, -0....</td>\n",
       "    </tr>\n",
       "    <tr>\n",
       "      <th>2</th>\n",
       "      <td>20</td>\n",
       "      <td>[0.17178677022457123, 0.14573657512664795, -0....</td>\n",
       "    </tr>\n",
       "    <tr>\n",
       "      <th>3</th>\n",
       "      <td>30</td>\n",
       "      <td>[0.246071919798851, -0.011734317988157272, -0....</td>\n",
       "    </tr>\n",
       "    <tr>\n",
       "      <th>4</th>\n",
       "      <td>40</td>\n",
       "      <td>[-0.03892082720994949, 0.16944539546966553, -0...</td>\n",
       "    </tr>\n",
       "    <tr>\n",
       "      <th>...</th>\n",
       "      <td>...</td>\n",
       "      <td>...</td>\n",
       "    </tr>\n",
       "    <tr>\n",
       "      <th>49023</th>\n",
       "      <td>48979</td>\n",
       "      <td>[-0.0012484464095905423, 0.0008200528682209551...</td>\n",
       "    </tr>\n",
       "    <tr>\n",
       "      <th>49024</th>\n",
       "      <td>48989</td>\n",
       "      <td>[0.05154109001159668, 0.07747381180524826, 0.0...</td>\n",
       "    </tr>\n",
       "    <tr>\n",
       "      <th>49025</th>\n",
       "      <td>48999</td>\n",
       "      <td>[0.00016529456479474902, -0.020128844305872917...</td>\n",
       "    </tr>\n",
       "    <tr>\n",
       "      <th>49026</th>\n",
       "      <td>49009</td>\n",
       "      <td>[0.004265699069947004, -0.009092509746551514, ...</td>\n",
       "    </tr>\n",
       "    <tr>\n",
       "      <th>49027</th>\n",
       "      <td>49019</td>\n",
       "      <td>[0.01065613329410553, 0.006351171992719173, 0....</td>\n",
       "    </tr>\n",
       "  </tbody>\n",
       "</table>\n",
       "<p>49028 rows × 2 columns</p>\n",
       "</div>"
      ],
      "text/plain": [
       "          id                                           features\n",
       "0          0  [0.09963960200548172, -0.12049102783203125, -0...\n",
       "1         10  [0.19621501863002777, 0.18064600229263306, -0....\n",
       "2         20  [0.17178677022457123, 0.14573657512664795, -0....\n",
       "3         30  [0.246071919798851, -0.011734317988157272, -0....\n",
       "4         40  [-0.03892082720994949, 0.16944539546966553, -0...\n",
       "...      ...                                                ...\n",
       "49023  48979  [-0.0012484464095905423, 0.0008200528682209551...\n",
       "49024  48989  [0.05154109001159668, 0.07747381180524826, 0.0...\n",
       "49025  48999  [0.00016529456479474902, -0.020128844305872917...\n",
       "49026  49009  [0.004265699069947004, -0.009092509746551514, ...\n",
       "49027  49019  [0.01065613329410553, 0.006351171992719173, 0....\n",
       "\n",
       "[49028 rows x 2 columns]"
      ]
     },
     "execution_count": 15,
     "metadata": {},
     "output_type": "execute_result"
    }
   ],
   "source": [
    "item_df"
   ]
  },
  {
   "cell_type": "code",
   "execution_count": 16,
   "metadata": {},
   "outputs": [
    {
     "data": {
      "text/html": [
       "<div>\n",
       "<style scoped>\n",
       "    .dataframe tbody tr th:only-of-type {\n",
       "        vertical-align: middle;\n",
       "    }\n",
       "\n",
       "    .dataframe tbody tr th {\n",
       "        vertical-align: top;\n",
       "    }\n",
       "\n",
       "    .dataframe thead th {\n",
       "        text-align: right;\n",
       "    }\n",
       "</style>\n",
       "<table border=\"1\" class=\"dataframe\">\n",
       "  <thead>\n",
       "    <tr style=\"text-align: right;\">\n",
       "      <th></th>\n",
       "      <th>id</th>\n",
       "      <th>features</th>\n",
       "    </tr>\n",
       "  </thead>\n",
       "  <tbody>\n",
       "    <tr>\n",
       "      <th>0</th>\n",
       "      <td>0</td>\n",
       "      <td>[-0.17346660792827606, 0.057663943618535995, -...</td>\n",
       "    </tr>\n",
       "    <tr>\n",
       "      <th>1</th>\n",
       "      <td>10</td>\n",
       "      <td>[0.09907369315624237, 0.01952333375811577, -0....</td>\n",
       "    </tr>\n",
       "    <tr>\n",
       "      <th>2</th>\n",
       "      <td>20</td>\n",
       "      <td>[-0.020480383187532425, 0.051797594875097275, ...</td>\n",
       "    </tr>\n",
       "    <tr>\n",
       "      <th>3</th>\n",
       "      <td>30</td>\n",
       "      <td>[0.0829821303486824, 0.08336185663938522, -0.1...</td>\n",
       "    </tr>\n",
       "    <tr>\n",
       "      <th>4</th>\n",
       "      <td>40</td>\n",
       "      <td>[0.033947352319955826, 0.04258722439408302, 0....</td>\n",
       "    </tr>\n",
       "    <tr>\n",
       "      <th>...</th>\n",
       "      <td>...</td>\n",
       "      <td>...</td>\n",
       "    </tr>\n",
       "    <tr>\n",
       "      <th>9995</th>\n",
       "      <td>9959</td>\n",
       "      <td>[-0.02258901298046112, -0.060730062425136566, ...</td>\n",
       "    </tr>\n",
       "    <tr>\n",
       "      <th>9996</th>\n",
       "      <td>9969</td>\n",
       "      <td>[-0.025184469297528267, -0.009386678226292133,...</td>\n",
       "    </tr>\n",
       "    <tr>\n",
       "      <th>9997</th>\n",
       "      <td>9979</td>\n",
       "      <td>[0.015737343579530716, -0.013592570088803768, ...</td>\n",
       "    </tr>\n",
       "    <tr>\n",
       "      <th>9998</th>\n",
       "      <td>9989</td>\n",
       "      <td>[0.04540069401264191, 0.042910147458314896, -0...</td>\n",
       "    </tr>\n",
       "    <tr>\n",
       "      <th>9999</th>\n",
       "      <td>9999</td>\n",
       "      <td>[0.035385340452194214, 0.004625849891453981, 0...</td>\n",
       "    </tr>\n",
       "  </tbody>\n",
       "</table>\n",
       "<p>10000 rows × 2 columns</p>\n",
       "</div>"
      ],
      "text/plain": [
       "        id                                           features\n",
       "0        0  [-0.17346660792827606, 0.057663943618535995, -...\n",
       "1       10  [0.09907369315624237, 0.01952333375811577, -0....\n",
       "2       20  [-0.020480383187532425, 0.051797594875097275, ...\n",
       "3       30  [0.0829821303486824, 0.08336185663938522, -0.1...\n",
       "4       40  [0.033947352319955826, 0.04258722439408302, 0....\n",
       "...    ...                                                ...\n",
       "9995  9959  [-0.02258901298046112, -0.060730062425136566, ...\n",
       "9996  9969  [-0.025184469297528267, -0.009386678226292133,...\n",
       "9997  9979  [0.015737343579530716, -0.013592570088803768, ...\n",
       "9998  9989  [0.04540069401264191, 0.042910147458314896, -0...\n",
       "9999  9999  [0.035385340452194214, 0.004625849891453981, 0...\n",
       "\n",
       "[10000 rows x 2 columns]"
      ]
     },
     "execution_count": 16,
     "metadata": {},
     "output_type": "execute_result"
    }
   ],
   "source": [
    "user_df"
   ]
  },
  {
   "cell_type": "markdown",
   "metadata": {},
   "source": [
    "### Annoy data pre-processing"
   ]
  },
  {
   "cell_type": "code",
   "execution_count": 19,
   "metadata": {},
   "outputs": [],
   "source": [
    "user_validation = validation.select(validation['indexed_user_id'].alias('id')).distinct()\n",
    "mutual = user_validation.join(user_factor,'id','inner')\n",
    "mutual = mutual.toPandas()"
   ]
  },
  {
   "cell_type": "code",
   "execution_count": 20,
   "metadata": {},
   "outputs": [
    {
     "data": {
      "text/plain": [
       "(49028, 200)"
      ]
     },
     "execution_count": 20,
     "metadata": {},
     "output_type": "execute_result"
    }
   ],
   "source": [
    "tracks = np.array(list(item_df['features']))\n",
    "np.shape(tracks)"
   ]
  },
  {
   "cell_type": "code",
   "execution_count": 21,
   "metadata": {},
   "outputs": [
    {
     "data": {
      "text/plain": [
       "(9973, 200)"
      ]
     },
     "execution_count": 21,
     "metadata": {},
     "output_type": "execute_result"
    }
   ],
   "source": [
    "queries = np.array(list(mutual['features']))\n",
    "np.shape(queries)"
   ]
  },
  {
   "cell_type": "markdown",
   "metadata": {},
   "source": [
    "### Brute Force Search vs. Fast Search"
   ]
  },
  {
   "cell_type": "code",
   "execution_count": 22,
   "metadata": {},
   "outputs": [],
   "source": [
    "def brute_force_timed(query):\n",
    "    start = time.time()\n",
    "    dot_product = tracks.dot(query)\n",
    "    indices = np.argsort(dot_product)[::-1][:500]\n",
    "    end = time.time() - start\n",
    "    return end, indices"
   ]
  },
  {
   "cell_type": "code",
   "execution_count": 23,
   "metadata": {},
   "outputs": [],
   "source": [
    "def annoy_timed(query, sk):\n",
    "    start = time.time()\n",
    "    indices = t.get_nns_by_vector(query, n=nn, search_k=sk, include_distances=False)   \n",
    "    end = time.time() - start\n",
    "    return end, indices"
   ]
  },
  {
   "cell_type": "code",
   "execution_count": 24,
   "metadata": {},
   "outputs": [],
   "source": [
    "def precision_recall(ann, truth):\n",
    "    intersect = [i for i in ann if i in truth]\n",
    "    intersect_len = len(intersect)\n",
    "    precision = intersect_len/len(ann)\n",
    "    recall = intersect_len/len(truth)\n",
    "    return precision, recall"
   ]
  },
  {
   "cell_type": "code",
   "execution_count": 25,
   "metadata": {},
   "outputs": [],
   "source": [
    "def map_score(ann, bf):\n",
    "    all_p = []\n",
    "    for i in range(len(ann)):\n",
    "        both = list(set(ann[i]) & set(bf[i]))\n",
    "        count = 0\n",
    "        pre = 0\n",
    "        for j in range(len(ann[i])):\n",
    "            if ann[i][j] in both:\n",
    "                count += 1\n",
    "                pre += count/(j+1)\n",
    "        all_p.append(pre)\n",
    "    \n",
    "    return np.mean(all_p)"
   ]
  },
  {
   "cell_type": "code",
   "execution_count": 26,
   "metadata": {},
   "outputs": [],
   "source": [
    "#Initialize parameters\n",
    "f = len(tracks[0]) #rank = 200\n",
    "n_queries = len(queries)\n",
    "nn = 500 \n",
    "\n",
    "n_trees = [10, 20, 40]  \n",
    "search_k = [1000, 5000, 10000, 50000, 100000]     \n",
    "param_choice = itertools.product(n_trees, search_k)"
   ]
  },
  {
   "cell_type": "code",
   "execution_count": 27,
   "metadata": {},
   "outputs": [
    {
     "name": "stderr",
     "output_type": "stream",
     "text": [
      "<ipython-input-27-26609dbbbbe8>:4: TqdmDeprecationWarning: This function will be removed in tqdm==5.0.0\n",
      "Please use `tqdm.notebook.tqdm` instead of `tqdm.tqdm_notebook`\n",
      "  for q in tqdm(range(n_queries)):\n"
     ]
    },
    {
     "data": {
      "application/vnd.jupyter.widget-view+json": {
       "model_id": "ade2c6532fd84d5a8258698be044285f",
       "version_major": 2,
       "version_minor": 0
      },
      "text/plain": [
       "HBox(children=(HTML(value=''), FloatProgress(value=0.0, max=9973.0), HTML(value='')))"
      ]
     },
     "metadata": {},
     "output_type": "display_data"
    },
    {
     "name": "stdout",
     "output_type": "stream",
     "text": [
      "\n",
      "Max time for brute-force search: 0.024167776107788086\n",
      "Min time for brute-force search: 0.0047872066497802734\n",
      "Mean time for brute-force search: 0.005670611889207183\n"
     ]
    }
   ],
   "source": [
    "#Brute force\n",
    "all_time = []\n",
    "all_results = []\n",
    "for q in tqdm(range(n_queries)):\n",
    "    end, indices = brute_force_timed(queries[q])\n",
    "    all_time.append(end)\n",
    "    all_results.append(indices)\n",
    "    mean_time = np.mean(all_time)\n",
    "        \n",
    "print(f'Max time for brute-force search: {max(all_time)}')\n",
    "print(f'Min time for brute-force search: {min(all_time)}')\n",
    "print(f'Mean time for brute-force search: {mean_time}')"
   ]
  },
  {
   "cell_type": "code",
   "execution_count": 28,
   "metadata": {
    "scrolled": false
   },
   "outputs": [
    {
     "name": "stderr",
     "output_type": "stream",
     "text": [
      "<ipython-input-28-9aa82677288f>:19: TqdmDeprecationWarning: This function will be removed in tqdm==5.0.0\n",
      "Please use `tqdm.notebook.tqdm` instead of `tqdm.tqdm_notebook`\n",
      "  for q in tqdm(range(n_queries)):\n"
     ]
    },
    {
     "data": {
      "application/vnd.jupyter.widget-view+json": {
       "model_id": "ecfe1af5cf6541a9b720ba1f67fb738c",
       "version_major": 2,
       "version_minor": 0
      },
      "text/plain": [
       "HBox(children=(HTML(value=''), FloatProgress(value=0.0, max=9973.0), HTML(value='')))"
      ]
     },
     "metadata": {},
     "output_type": "display_data"
    },
    {
     "name": "stdout",
     "output_type": "stream",
     "text": [
      "\n",
      "n_trees = 10, search_k = 1000\n",
      "Max time for annoy search: 0.005475282669067383\n",
      "Min time for annoy search: 0.00021004676818847656\n",
      "Mean time for annoy search: 0.00034909904343809585\n",
      "\n",
      "Max precision: 0.61\n",
      "Min precsion: 0.0\n",
      "Mean precision: 0.12063513478261226\n"
     ]
    },
    {
     "data": {
      "application/vnd.jupyter.widget-view+json": {
       "model_id": "0da4d52ff2b04f5c93990e06621aa04d",
       "version_major": 2,
       "version_minor": 0
      },
      "text/plain": [
       "HBox(children=(HTML(value=''), FloatProgress(value=0.0, max=9973.0), HTML(value='')))"
      ]
     },
     "metadata": {},
     "output_type": "display_data"
    },
    {
     "name": "stdout",
     "output_type": "stream",
     "text": [
      "\n",
      "n_trees = 10, search_k = 5000\n",
      "Max time for annoy search: 0.002238035202026367\n",
      "Min time for annoy search: 0.0009729862213134766\n",
      "Mean time for annoy search: 0.001236615156584705\n",
      "\n",
      "Max precision: 0.816\n",
      "Min precsion: 0.016\n",
      "Mean precision: 0.2952999097563421\n"
     ]
    },
    {
     "data": {
      "application/vnd.jupyter.widget-view+json": {
       "model_id": "8289add1cd0c45d591111e9395486aa4",
       "version_major": 2,
       "version_minor": 0
      },
      "text/plain": [
       "HBox(children=(HTML(value=''), FloatProgress(value=0.0, max=9973.0), HTML(value='')))"
      ]
     },
     "metadata": {},
     "output_type": "display_data"
    },
    {
     "name": "stdout",
     "output_type": "stream",
     "text": [
      "\n",
      "n_trees = 10, search_k = 10000\n",
      "Max time for annoy search: 0.003582000732421875\n",
      "Min time for annoy search: 0.0018129348754882812\n",
      "Mean time for annoy search: 0.0021403327361638265\n",
      "\n",
      "Max precision: 0.88\n",
      "Min precsion: 0.03\n",
      "Mean precision: 0.4265575052642134\n"
     ]
    },
    {
     "data": {
      "application/vnd.jupyter.widget-view+json": {
       "model_id": "26382889e072436f9258184e18539aa0",
       "version_major": 2,
       "version_minor": 0
      },
      "text/plain": [
       "HBox(children=(HTML(value=''), FloatProgress(value=0.0, max=9973.0), HTML(value='')))"
      ]
     },
     "metadata": {},
     "output_type": "display_data"
    },
    {
     "name": "stdout",
     "output_type": "stream",
     "text": [
      "\n",
      "n_trees = 10, search_k = 50000\n",
      "Max time for annoy search: 0.007934093475341797\n",
      "Min time for annoy search: 0.005700111389160156\n",
      "Mean time for annoy search: 0.006127336660431223\n",
      "\n",
      "Max precision: 0.974\n",
      "Min precsion: 0.332\n",
      "Mean precision: 0.8355168956181691\n"
     ]
    },
    {
     "data": {
      "application/vnd.jupyter.widget-view+json": {
       "model_id": "44323f76e7ec4cf7b2790868155dbacc",
       "version_major": 2,
       "version_minor": 0
      },
      "text/plain": [
       "HBox(children=(HTML(value=''), FloatProgress(value=0.0, max=9973.0), HTML(value='')))"
      ]
     },
     "metadata": {},
     "output_type": "display_data"
    },
    {
     "name": "stdout",
     "output_type": "stream",
     "text": [
      "\n",
      "n_trees = 10, search_k = 100000\n",
      "Max time for annoy search: 0.011034011840820312\n",
      "Min time for annoy search: 0.009238004684448242\n",
      "Mean time for annoy search: 0.009770882807415776\n",
      "\n",
      "Max precision: 1.0\n",
      "Min precsion: 0.552\n",
      "Mean precision: 0.9585502857715834\n"
     ]
    },
    {
     "data": {
      "application/vnd.jupyter.widget-view+json": {
       "model_id": "4a76e658323a4a819d2a9803b9136251",
       "version_major": 2,
       "version_minor": 0
      },
      "text/plain": [
       "HBox(children=(HTML(value=''), FloatProgress(value=0.0, max=9973.0), HTML(value='')))"
      ]
     },
     "metadata": {},
     "output_type": "display_data"
    },
    {
     "name": "stdout",
     "output_type": "stream",
     "text": [
      "\n",
      "n_trees = 20, search_k = 1000\n",
      "Max time for annoy search: 0.0007238388061523438\n",
      "Min time for annoy search: 0.00021576881408691406\n",
      "Mean time for annoy search: 0.0003450569245397632\n",
      "\n",
      "Max precision: 0.664\n",
      "Min precsion: 0.0\n",
      "Mean precision: 0.13800985351097939\n"
     ]
    },
    {
     "data": {
      "application/vnd.jupyter.widget-view+json": {
       "model_id": "a6e635a54d4b41938537d52d25348f11",
       "version_major": 2,
       "version_minor": 0
      },
      "text/plain": [
       "HBox(children=(HTML(value=''), FloatProgress(value=0.0, max=9973.0), HTML(value='')))"
      ]
     },
     "metadata": {},
     "output_type": "display_data"
    },
    {
     "name": "stdout",
     "output_type": "stream",
     "text": [
      "\n",
      "n_trees = 20, search_k = 5000\n",
      "Max time for annoy search: 0.0023050308227539062\n",
      "Min time for annoy search: 0.0008380413055419922\n",
      "Mean time for annoy search: 0.001234416125901996\n",
      "\n",
      "Max precision: 0.88\n",
      "Min precsion: 0.01\n",
      "Mean precision: 0.3302631103980748\n"
     ]
    },
    {
     "data": {
      "application/vnd.jupyter.widget-view+json": {
       "model_id": "8e69ed0811cd43699b9a2eedaf9f9f91",
       "version_major": 2,
       "version_minor": 0
      },
      "text/plain": [
       "HBox(children=(HTML(value=''), FloatProgress(value=0.0, max=9973.0), HTML(value='')))"
      ]
     },
     "metadata": {},
     "output_type": "display_data"
    },
    {
     "name": "stdout",
     "output_type": "stream",
     "text": [
      "\n",
      "n_trees = 20, search_k = 10000\n",
      "Max time for annoy search: 0.004617214202880859\n",
      "Min time for annoy search: 0.0017290115356445312\n",
      "Mean time for annoy search: 0.0021471095326598736\n",
      "\n",
      "Max precision: 0.928\n",
      "Min precsion: 0.034\n",
      "Mean precision: 0.4671882081620375\n"
     ]
    },
    {
     "data": {
      "application/vnd.jupyter.widget-view+json": {
       "model_id": "796bc82a27f94bcf8baa7bf39063a452",
       "version_major": 2,
       "version_minor": 0
      },
      "text/plain": [
       "HBox(children=(HTML(value=''), FloatProgress(value=0.0, max=9973.0), HTML(value='')))"
      ]
     },
     "metadata": {},
     "output_type": "display_data"
    },
    {
     "name": "stdout",
     "output_type": "stream",
     "text": [
      "\n",
      "n_trees = 20, search_k = 50000\n",
      "Max time for annoy search: 0.009512186050415039\n",
      "Min time for annoy search: 0.00559687614440918\n",
      "Mean time for annoy search: 0.006126652889429572\n",
      "\n",
      "Max precision: 0.992\n",
      "Min precsion: 0.284\n",
      "Mean precision: 0.8575459741301514\n"
     ]
    },
    {
     "data": {
      "application/vnd.jupyter.widget-view+json": {
       "model_id": "266993b514fb4774a8ec3138bcd9579e",
       "version_major": 2,
       "version_minor": 0
      },
      "text/plain": [
       "HBox(children=(HTML(value=''), FloatProgress(value=0.0, max=9973.0), HTML(value='')))"
      ]
     },
     "metadata": {},
     "output_type": "display_data"
    },
    {
     "name": "stdout",
     "output_type": "stream",
     "text": [
      "\n",
      "n_trees = 20, search_k = 100000\n",
      "Max time for annoy search: 0.014257192611694336\n",
      "Min time for annoy search: 0.009055137634277344\n",
      "Mean time for annoy search: 0.00979241085999184\n",
      "\n",
      "Max precision: 1.0\n",
      "Min precsion: 0.524\n",
      "Mean precision: 0.9630500350947558\n"
     ]
    },
    {
     "data": {
      "application/vnd.jupyter.widget-view+json": {
       "model_id": "facf3cf6bd754dacac8f6cc9d95349f2",
       "version_major": 2,
       "version_minor": 0
      },
      "text/plain": [
       "HBox(children=(HTML(value=''), FloatProgress(value=0.0, max=9973.0), HTML(value='')))"
      ]
     },
     "metadata": {},
     "output_type": "display_data"
    },
    {
     "name": "stdout",
     "output_type": "stream",
     "text": [
      "\n",
      "n_trees = 40, search_k = 1000\n",
      "Max time for annoy search: 0.0013971328735351562\n",
      "Min time for annoy search: 0.00021409988403320312\n",
      "Mean time for annoy search: 0.0003782703562604261\n",
      "\n",
      "Max precision: 0.716\n",
      "Min precsion: 0.0\n",
      "Mean precision: 0.1544685942626253\n"
     ]
    },
    {
     "data": {
      "application/vnd.jupyter.widget-view+json": {
       "model_id": "780131e58b0b4d0cbb671d507daa9193",
       "version_major": 2,
       "version_minor": 0
      },
      "text/plain": [
       "HBox(children=(HTML(value=''), FloatProgress(value=0.0, max=9973.0), HTML(value='')))"
      ]
     },
     "metadata": {},
     "output_type": "display_data"
    },
    {
     "name": "stdout",
     "output_type": "stream",
     "text": [
      "\n",
      "n_trees = 40, search_k = 5000\n",
      "Max time for annoy search: 0.00315093994140625\n",
      "Min time for annoy search: 0.0008139610290527344\n",
      "Mean time for annoy search: 0.0013498542995638394\n",
      "\n",
      "Max precision: 0.904\n",
      "Min precsion: 0.008\n",
      "Mean precision: 0.3632896821417828\n"
     ]
    },
    {
     "data": {
      "application/vnd.jupyter.widget-view+json": {
       "model_id": "fa6f9ed3d98b45b1b197ae1ac79829bf",
       "version_major": 2,
       "version_minor": 0
      },
      "text/plain": [
       "HBox(children=(HTML(value=''), FloatProgress(value=0.0, max=9973.0), HTML(value='')))"
      ]
     },
     "metadata": {},
     "output_type": "display_data"
    },
    {
     "name": "stdout",
     "output_type": "stream",
     "text": [
      "\n",
      "n_trees = 40, search_k = 10000\n",
      "Max time for annoy search: 0.004102945327758789\n",
      "Min time for annoy search: 0.001535177230834961\n",
      "Mean time for annoy search: 0.0022957614010128374\n",
      "\n",
      "Max precision: 0.966\n",
      "Min precsion: 0.034\n",
      "Mean precision: 0.5066194725759551\n"
     ]
    },
    {
     "data": {
      "application/vnd.jupyter.widget-view+json": {
       "model_id": "7c28217ffb8143448455964f3617a700",
       "version_major": 2,
       "version_minor": 0
      },
      "text/plain": [
       "HBox(children=(HTML(value=''), FloatProgress(value=0.0, max=9973.0), HTML(value='')))"
      ]
     },
     "metadata": {},
     "output_type": "display_data"
    },
    {
     "name": "stdout",
     "output_type": "stream",
     "text": [
      "\n",
      "n_trees = 40, search_k = 50000\n",
      "Max time for annoy search: 0.009292125701904297\n",
      "Min time for annoy search: 0.005464076995849609\n",
      "Mean time for annoy search: 0.006149244131564281\n",
      "\n",
      "Max precision: 0.998\n",
      "Min precsion: 0.188\n",
      "Mean precision: 0.8785119823523513\n"
     ]
    },
    {
     "data": {
      "application/vnd.jupyter.widget-view+json": {
       "model_id": "a1f93c97284d49809813f52a880987df",
       "version_major": 2,
       "version_minor": 0
      },
      "text/plain": [
       "HBox(children=(HTML(value=''), FloatProgress(value=0.0, max=9973.0), HTML(value='')))"
      ]
     },
     "metadata": {},
     "output_type": "display_data"
    },
    {
     "name": "stdout",
     "output_type": "stream",
     "text": [
      "\n",
      "n_trees = 40, search_k = 100000\n",
      "Max time for annoy search: 0.01954793930053711\n",
      "Min time for annoy search: 0.00884699821472168\n",
      "Mean time for annoy search: 0.00988248981229881\n",
      "\n",
      "Max precision: 1.0\n",
      "Min precsion: 0.43\n",
      "Mean precision: 0.968604833049233\n"
     ]
    }
   ],
   "source": [
    "max_time_ann={}\n",
    "mean_time_ann={}\n",
    "pre_dict={}\n",
    "recall_dict={}\n",
    "\n",
    "for i in param_choice:\n",
    "    \n",
    "    #Build annoy tree\n",
    "    t = AnnoyIndex(f, 'dot')\n",
    "    for j in range(len(tracks)):\n",
    "        t.add_item(j, tracks[j])\n",
    "    t.build(i[0])\n",
    "    #t.save(f'tree_{i[0]}_{i[1]}.ann')    \n",
    "        \n",
    "    \n",
    "    #Annoy\n",
    "    all_time_ann = []\n",
    "    all_results_ann = []\n",
    "    for q in tqdm(range(n_queries)):\n",
    "        end, indices = annoy_timed(queries[q], i[1])\n",
    "        all_time_ann.append(end)\n",
    "        all_results_ann.append(indices)\n",
    "        mean_time = np.mean(all_time_ann)\n",
    "    \n",
    "    max_time_ann[(i[0], i[1])] = max(all_time_ann)\n",
    "    mean_time_ann[(i[0], i[1])] = mean_time\n",
    "    \n",
    "    print(f'n_trees = {i[0]}, search_k = {i[1]}')          \n",
    "    print(f'Max time for annoy search: {max(all_time_ann)}')\n",
    "    print(f'Min time for annoy search: {min(all_time_ann)}')\n",
    "    print(f'Mean time for annoy search: {mean_time}')\n",
    "    \n",
    "    \n",
    "    #Precision and recall\n",
    "    pres = []\n",
    "    recalls = []\n",
    "    for q in range(n_queries):\n",
    "        p, r = precision_recall(all_results_ann[q], all_results[q])\n",
    "        pres.append(p)\n",
    "        recalls.append(r)\n",
    "      \n",
    "    pre_dict[(i[0], i[1])] = np.mean(pres)\n",
    "    recall_dict[(i[0], i[1])] = np.mean(recalls)\n",
    "    \n",
    "    print()\n",
    "    print(f'Max precision: {np.max(pres)}')\n",
    "    print(f'Min precsion: {np.min(pres)}')\n",
    "    print(f'Mean precision: {np.mean(pres)}')    \n",
    "    #print(f'MAP score: {map_score(all_results_ann, all_results)}')"
   ]
  },
  {
   "cell_type": "markdown",
   "metadata": {},
   "source": [
    "### Visualization"
   ]
  },
  {
   "cell_type": "code",
   "execution_count": 29,
   "metadata": {},
   "outputs": [],
   "source": [
    "mean_time_ann_lst = list(mean_time_ann.values())\n",
    "max_time_ann_lst = list(max_time_ann.values())\n",
    "precision_dict_lst = list(pre_dict.values())\n",
    "recall_dict_lst = list(recall_dict.values())"
   ]
  },
  {
   "cell_type": "code",
   "execution_count": 30,
   "metadata": {},
   "outputs": [],
   "source": [
    "tree_key = [list(mean_time_ann.keys())[i][0] for i in range(len(mean_time_ann))]\n",
    "k_key = [list(mean_time_ann.keys())[i][1] for i in range(len(mean_time_ann))]"
   ]
  },
  {
   "cell_type": "code",
   "execution_count": 31,
   "metadata": {},
   "outputs": [
    {
     "data": {
      "text/html": [
       "<div>\n",
       "<style scoped>\n",
       "    .dataframe tbody tr th:only-of-type {\n",
       "        vertical-align: middle;\n",
       "    }\n",
       "\n",
       "    .dataframe tbody tr th {\n",
       "        vertical-align: top;\n",
       "    }\n",
       "\n",
       "    .dataframe thead th {\n",
       "        text-align: right;\n",
       "    }\n",
       "</style>\n",
       "<table border=\"1\" class=\"dataframe\">\n",
       "  <thead>\n",
       "    <tr style=\"text-align: right;\">\n",
       "      <th></th>\n",
       "      <th>mean_time_ann</th>\n",
       "      <th>max_time_ann</th>\n",
       "      <th>mean_precision</th>\n",
       "      <th>mean_recall</th>\n",
       "      <th>n_trees</th>\n",
       "      <th>search_k</th>\n",
       "      <th>mean_time_bf</th>\n",
       "    </tr>\n",
       "  </thead>\n",
       "  <tbody>\n",
       "    <tr>\n",
       "      <th>0</th>\n",
       "      <td>0.000349</td>\n",
       "      <td>0.005475</td>\n",
       "      <td>0.120635</td>\n",
       "      <td>0.120635</td>\n",
       "      <td>10</td>\n",
       "      <td>1000</td>\n",
       "      <td>0.005671</td>\n",
       "    </tr>\n",
       "    <tr>\n",
       "      <th>1</th>\n",
       "      <td>0.001237</td>\n",
       "      <td>0.002238</td>\n",
       "      <td>0.295300</td>\n",
       "      <td>0.295300</td>\n",
       "      <td>10</td>\n",
       "      <td>5000</td>\n",
       "      <td>0.005671</td>\n",
       "    </tr>\n",
       "    <tr>\n",
       "      <th>2</th>\n",
       "      <td>0.002140</td>\n",
       "      <td>0.003582</td>\n",
       "      <td>0.426558</td>\n",
       "      <td>0.426558</td>\n",
       "      <td>10</td>\n",
       "      <td>10000</td>\n",
       "      <td>0.005671</td>\n",
       "    </tr>\n",
       "    <tr>\n",
       "      <th>3</th>\n",
       "      <td>0.006127</td>\n",
       "      <td>0.007934</td>\n",
       "      <td>0.835517</td>\n",
       "      <td>0.835517</td>\n",
       "      <td>10</td>\n",
       "      <td>50000</td>\n",
       "      <td>0.005671</td>\n",
       "    </tr>\n",
       "    <tr>\n",
       "      <th>4</th>\n",
       "      <td>0.009771</td>\n",
       "      <td>0.011034</td>\n",
       "      <td>0.958550</td>\n",
       "      <td>0.958550</td>\n",
       "      <td>10</td>\n",
       "      <td>100000</td>\n",
       "      <td>0.005671</td>\n",
       "    </tr>\n",
       "    <tr>\n",
       "      <th>5</th>\n",
       "      <td>0.000345</td>\n",
       "      <td>0.000724</td>\n",
       "      <td>0.138010</td>\n",
       "      <td>0.138010</td>\n",
       "      <td>20</td>\n",
       "      <td>1000</td>\n",
       "      <td>0.005671</td>\n",
       "    </tr>\n",
       "    <tr>\n",
       "      <th>6</th>\n",
       "      <td>0.001234</td>\n",
       "      <td>0.002305</td>\n",
       "      <td>0.330263</td>\n",
       "      <td>0.330263</td>\n",
       "      <td>20</td>\n",
       "      <td>5000</td>\n",
       "      <td>0.005671</td>\n",
       "    </tr>\n",
       "    <tr>\n",
       "      <th>7</th>\n",
       "      <td>0.002147</td>\n",
       "      <td>0.004617</td>\n",
       "      <td>0.467188</td>\n",
       "      <td>0.467188</td>\n",
       "      <td>20</td>\n",
       "      <td>10000</td>\n",
       "      <td>0.005671</td>\n",
       "    </tr>\n",
       "    <tr>\n",
       "      <th>8</th>\n",
       "      <td>0.006127</td>\n",
       "      <td>0.009512</td>\n",
       "      <td>0.857546</td>\n",
       "      <td>0.857546</td>\n",
       "      <td>20</td>\n",
       "      <td>50000</td>\n",
       "      <td>0.005671</td>\n",
       "    </tr>\n",
       "    <tr>\n",
       "      <th>9</th>\n",
       "      <td>0.009792</td>\n",
       "      <td>0.014257</td>\n",
       "      <td>0.963050</td>\n",
       "      <td>0.963050</td>\n",
       "      <td>20</td>\n",
       "      <td>100000</td>\n",
       "      <td>0.005671</td>\n",
       "    </tr>\n",
       "    <tr>\n",
       "      <th>10</th>\n",
       "      <td>0.000378</td>\n",
       "      <td>0.001397</td>\n",
       "      <td>0.154469</td>\n",
       "      <td>0.154468</td>\n",
       "      <td>40</td>\n",
       "      <td>1000</td>\n",
       "      <td>0.005671</td>\n",
       "    </tr>\n",
       "    <tr>\n",
       "      <th>11</th>\n",
       "      <td>0.001350</td>\n",
       "      <td>0.003151</td>\n",
       "      <td>0.363290</td>\n",
       "      <td>0.363290</td>\n",
       "      <td>40</td>\n",
       "      <td>5000</td>\n",
       "      <td>0.005671</td>\n",
       "    </tr>\n",
       "    <tr>\n",
       "      <th>12</th>\n",
       "      <td>0.002296</td>\n",
       "      <td>0.004103</td>\n",
       "      <td>0.506619</td>\n",
       "      <td>0.506619</td>\n",
       "      <td>40</td>\n",
       "      <td>10000</td>\n",
       "      <td>0.005671</td>\n",
       "    </tr>\n",
       "    <tr>\n",
       "      <th>13</th>\n",
       "      <td>0.006149</td>\n",
       "      <td>0.009292</td>\n",
       "      <td>0.878512</td>\n",
       "      <td>0.878512</td>\n",
       "      <td>40</td>\n",
       "      <td>50000</td>\n",
       "      <td>0.005671</td>\n",
       "    </tr>\n",
       "    <tr>\n",
       "      <th>14</th>\n",
       "      <td>0.009882</td>\n",
       "      <td>0.019548</td>\n",
       "      <td>0.968605</td>\n",
       "      <td>0.968605</td>\n",
       "      <td>40</td>\n",
       "      <td>100000</td>\n",
       "      <td>0.005671</td>\n",
       "    </tr>\n",
       "  </tbody>\n",
       "</table>\n",
       "</div>"
      ],
      "text/plain": [
       "    mean_time_ann  max_time_ann  mean_precision  mean_recall  n_trees  \\\n",
       "0        0.000349      0.005475        0.120635     0.120635       10   \n",
       "1        0.001237      0.002238        0.295300     0.295300       10   \n",
       "2        0.002140      0.003582        0.426558     0.426558       10   \n",
       "3        0.006127      0.007934        0.835517     0.835517       10   \n",
       "4        0.009771      0.011034        0.958550     0.958550       10   \n",
       "5        0.000345      0.000724        0.138010     0.138010       20   \n",
       "6        0.001234      0.002305        0.330263     0.330263       20   \n",
       "7        0.002147      0.004617        0.467188     0.467188       20   \n",
       "8        0.006127      0.009512        0.857546     0.857546       20   \n",
       "9        0.009792      0.014257        0.963050     0.963050       20   \n",
       "10       0.000378      0.001397        0.154469     0.154468       40   \n",
       "11       0.001350      0.003151        0.363290     0.363290       40   \n",
       "12       0.002296      0.004103        0.506619     0.506619       40   \n",
       "13       0.006149      0.009292        0.878512     0.878512       40   \n",
       "14       0.009882      0.019548        0.968605     0.968605       40   \n",
       "\n",
       "    search_k  mean_time_bf  \n",
       "0       1000      0.005671  \n",
       "1       5000      0.005671  \n",
       "2      10000      0.005671  \n",
       "3      50000      0.005671  \n",
       "4     100000      0.005671  \n",
       "5       1000      0.005671  \n",
       "6       5000      0.005671  \n",
       "7      10000      0.005671  \n",
       "8      50000      0.005671  \n",
       "9     100000      0.005671  \n",
       "10      1000      0.005671  \n",
       "11      5000      0.005671  \n",
       "12     10000      0.005671  \n",
       "13     50000      0.005671  \n",
       "14    100000      0.005671  "
      ]
     },
     "execution_count": 31,
     "metadata": {},
     "output_type": "execute_result"
    }
   ],
   "source": [
    "vis = pd.DataFrame({'mean_time_ann':mean_time_ann_lst, 'max_time_ann':max_time_ann_lst, 'mean_precision':precision_dict_lst,\n",
    "                       'mean_recall':recall_dict_lst, 'n_trees':tree_key, 'search_k':k_key})\n",
    "vis['mean_time_bf'] = np.mean(all_time)\n",
    "vis"
   ]
  },
  {
   "cell_type": "code",
   "execution_count": 32,
   "metadata": {},
   "outputs": [
    {
     "data": {
      "image/png": "[encoded data removed]",
      "text/plain": [
       "<Figure size 576x360 with 1 Axes>"
      ]
     },
     "metadata": {
      "needs_background": "light"
     },
     "output_type": "display_data"
    }
   ],
   "source": [
    "fig, ax = plt.subplots(figsize = (8,5))\n",
    "groups = vis.groupby('n_trees')\n",
    "groupk = vis.groupby('search_k')\n",
    "\n",
    "for n, group in groups:\n",
    "    eff = group.mean_time_bf/group.mean_time_ann\n",
    "    plt.plot(eff, group.mean_recall, linestyle='-', linewidth=2, label=(f'n_trees = {n}'))\n",
    "    plt.text(1, 0.93, \". search_k = le5\", size = 11, transform=ax.transData)\n",
    "    plt.text(2.7, 0.52, \". search_k = 5e4\", size = 11, transform=ax.transData)\n",
    "    plt.text(4.2, 0.38, \". search_k = 1e4\", size = 11, transform=ax.transData)\n",
    "    plt.text(8, 0.3, \". search_k = 5e3\", size = 11, transform=ax.transData)\n",
    "    plt.text(12.4, 0.22, \". search_k = 1e3\", size = 11, transform=ax.transData)\n",
    "\n",
    "plt.xlabel('time_brute_force / time_fast_search')\n",
    "plt.ylabel('Precision')\n",
    "plt.title('Time Efficiency vs. Precision')\n",
    "plt.legend()\n",
    "plt.show()"
   ]
  },
  {
   "cell_type": "code",
   "execution_count": null,
   "metadata": {},
   "outputs": [],
   "source": []
  }
 ],
 "metadata": {
  "kernelspec": {
   "display_name": "Python 3",
   "language": "python",
   "name": "python3"
  },
  "language_info": {
   "codemirror_mode": {
    "name": "ipython",
    "version": 3
   },
   "file_extension": ".py",
   "mimetype": "text/x-python",
   "name": "python",
   "nbconvert_exporter": "python",
   "pygments_lexer": "ipython3",
   "version": "3.8.5"
  }
 },
 "nbformat": 4,
 "nbformat_minor": 4
}
