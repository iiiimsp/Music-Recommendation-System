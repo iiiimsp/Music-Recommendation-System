{
 "cells": [
  {
   "cell_type": "code",
   "execution_count": 1,
   "id": "blessed-winning",
   "metadata": {},
   "outputs": [],
   "source": [
    "import getpass\n",
    "import pandas as pd\n",
    "import numpy as np\n",
    "\n",
    "\n",
    "import itertools\n",
    "from lightfm.evaluation import precision_at_k\n",
    "import lightfm\n",
    "from lightfm.data import Dataset\n",
    "\n",
    "from scipy.sparse import csr_matrix\n",
    "\n",
    "import os\n",
    "from glob import glob\n",
    "from lightfm import LightFM\n",
    "from distributed import Client\n",
    "from dask_jobqueue import SLURMCluster\n",
    "from lightfm.data import Dataset\n",
    "\n",
    "from time import time"
   ]
  },
  {
   "cell_type": "code",
   "execution_count": 2,
   "id": "light-coupon",
   "metadata": {},
   "outputs": [
    {
     "data": {
      "application/vnd.jupyter.widget-view+json": {
       "model_id": "feb2789b35c047a784daa73778c5d4a2",
       "version_major": 2,
       "version_minor": 0
      },
      "text/plain": [
       "VBox(children=(HTML(value='<h2>SLURMCluster</h2>'), HBox(children=(HTML(value='\\n<div>\\n  <style scoped>\\n    …"
      ]
     },
     "metadata": {},
     "output_type": "display_data"
    },
    {
     "data": {
      "text/html": [
       "<table style=\"border: 2px solid white;\">\n",
       "<tr>\n",
       "<td style=\"vertical-align: top; border: 0px solid white\">\n",
       "<h3 style=\"text-align: left;\">Client</h3>\n",
       "<ul style=\"text-align: left; list-style: none; margin: 0; padding: 0;\">\n",
       "  <li><b>Scheduler: </b>tcp://10.32.33.5:33511</li>\n",
       "  <li><b>Dashboard: </b><a href='http://10.32.33.5:8787/status' target='_blank'>http://10.32.33.5:8787/status</a></li>\n",
       "</ul>\n",
       "</td>\n",
       "<td style=\"vertical-align: top; border: 0px solid white\">\n",
       "<h3 style=\"text-align: left;\">Cluster</h3>\n",
       "<ul style=\"text-align: left; list-style:none; margin: 0; padding: 0;\">\n",
       "  <li><b>Workers: </b>0</li>\n",
       "  <li><b>Cores: </b>0</li>\n",
       "  <li><b>Memory: </b>0 B</li>\n",
       "</ul>\n",
       "</td>\n",
       "</tr>\n",
       "</table>"
      ],
      "text/plain": [
       "<Client: 'tcp://10.32.33.5:33511' processes=0 threads=0, memory=0 B>"
      ]
     },
     "metadata": {},
     "output_type": "display_data"
    }
   ],
   "source": [
    "# Set LOCAL to True for single-machine execution while developing\n",
    "# Set LOCAL to False for cluster execution\n",
    "LOCAL = False\n",
    "\n",
    "if LOCAL:\n",
    "    # This line creates a single-machine dask client\n",
    "    client = Client()\n",
    "else:    \n",
    "    # This line creates a SLURM cluster dask and dask client\n",
    "    # Logging outputs will be stored in /scratch/{your-netid}\n",
    "    \n",
    "    cluster = SLURMCluster(memory='8GB', cores=4, python='/scratch/work/public/dask/bin/python', \n",
    "                               local_directory='/tmp/{}/'.format(os.environ['SLURM_JOB_USER']),\n",
    "                               job_extra=['--output=/scratch/{}/slurm-%j.out'.format(os.environ['SLURM_JOB_USER'])])\n",
    "\n",
    "    cluster.submit_command = 'slurm'\n",
    "    cluster.scale(100)\n",
    "\n",
    "    display(cluster)\n",
    "    client = Client(cluster)\n",
    "\n",
    "display(client)"
   ]
  },
  {
   "cell_type": "code",
   "execution_count": 3,
   "id": "illegal-external",
   "metadata": {},
   "outputs": [],
   "source": [
    "train_path = glob('/scratch/work/courses/DSGA1004-2021/MSD/cf_train.parquet')\n",
    "validation_path = glob('/scratch/work/courses/DSGA1004-2021/MSD/cf_validation.parquet')"
   ]
  },
  {
   "cell_type": "markdown",
   "id": "packed-manitoba",
   "metadata": {},
   "source": [
    "# Train on 1% of the training data"
   ]
  },
  {
   "cell_type": "code",
   "execution_count": 4,
   "id": "sought-belly",
   "metadata": {},
   "outputs": [],
   "source": [
    "train = pd.read_parquet(train_path, engine='fastparquet')\n",
    "validation = pd.read_parquet(validation_path, engine='fastparquet')\n",
    "df = train.sample(frac = 0.01,random_state=42)"
   ]
  },
  {
   "cell_type": "code",
   "execution_count": 9,
   "id": "reasonable-section",
   "metadata": {},
   "outputs": [],
   "source": [
    "validation = validation[validation.user_id.isin(df.user_id)]\n",
    "validation = validation[validation.track_id.isin(df.track_id)]"
   ]
  },
  {
   "cell_type": "code",
   "execution_count": 10,
   "id": "pediatric-injury",
   "metadata": {},
   "outputs": [],
   "source": [
    "# LightFM\n",
    "learning_rate = [1,10,0.1]\n",
    "loss = ['warp','bpr']\n",
    "param_choice = itertools.product(learning_rate, loss)\n",
    "\n",
    "data = Dataset()\n",
    "data.fit_partial(df.user_id.unique(), df.track_id.unique())\n",
    "csr_train, train_weights = data.build_interactions(((x['user_id'], x['track_id']) for index,x in df.iterrows()))\n",
    "data.fit_partial(validation.user_id.unique(), validation.track_id.unique())\n",
    "csr_validation, validation_weights = data.build_interactions(((x['user_id'], x['track_id']) for index,x in validation.iterrows()))"
   ]
  },
  {
   "cell_type": "code",
   "execution_count": 11,
   "id": "educational-taxation",
   "metadata": {},
   "outputs": [
    {
     "name": "stdout",
     "output_type": "stream",
     "text": [
      "Finish training for (1, 'warp') combination\n",
      "Precision is: 6.8199835e-05\n",
      "Time taken: 26.528757333755493\n",
      "Finish training for (1, 'bpr') combination\n",
      "Precision is: 0.00013798573\n",
      "Time taken: 21.978182554244995\n",
      "Finish training for (10, 'warp') combination\n",
      "Precision is: 6.9785885e-05\n",
      "Time taken: 25.809032201766968\n",
      "Finish training for (10, 'bpr') combination\n",
      "Precision is: 3.8065027e-05\n",
      "Time taken: 22.51911187171936\n",
      "Finish training for (0.1, 'warp') combination\n",
      "Precision is: 0.0034432989\n",
      "Time taken: 23.367972135543823\n",
      "Finish training for (0.1, 'bpr') combination\n",
      "Precision is: 0.0009421095\n",
      "Time taken: 21.066409826278687\n"
     ]
    }
   ],
   "source": [
    "for i in param_choice:\n",
    "    start = time()\n",
    "    lightfm = LightFM(learning_rate = i[0], loss = i[1])\n",
    "    model = lightfm.fit(csr_train,epochs = 30)\n",
    "    print('Finish training for {} combination'.format(i))\n",
    "    print('Precision is: ' + str(precision_at_k(model, test_interactions = csr_validation, train_interactions = csr_train,k=500).mean()))\n",
    "    time_taken = time() - start\n",
    "    print('Time taken: ' + str(time_taken))"
   ]
  },
  {
   "cell_type": "markdown",
   "id": "delayed-deployment",
   "metadata": {},
   "source": [
    "# Train on 2% of the training data"
   ]
  },
  {
   "cell_type": "code",
   "execution_count": 5,
   "id": "hungarian-manitoba",
   "metadata": {},
   "outputs": [],
   "source": [
    "df = train.sample(frac = 0.02,random_state=42)\n",
    "validation = validation[validation.user_id.isin(df.user_id)]\n",
    "validation = validation[validation.track_id.isin(df.track_id)]"
   ]
  },
  {
   "cell_type": "code",
   "execution_count": 7,
   "id": "electronic-shelf",
   "metadata": {},
   "outputs": [],
   "source": [
    "data = Dataset()\n",
    "data.fit_partial(df.user_id.unique(), df.track_id.unique())\n",
    "csr_train, train_weights = data.build_interactions(((x['user_id'], x['track_id']) for index,x in df.iterrows()))\n",
    "data.fit_partial(validation.user_id.unique(), validation.track_id.unique())\n",
    "csr_validation, validation_weights = data.build_interactions(((x['user_id'], x['track_id']) for index,x in validation.iterrows()))"
   ]
  },
  {
   "cell_type": "code",
   "execution_count": 8,
   "id": "prepared-disclaimer",
   "metadata": {},
   "outputs": [
    {
     "name": "stdout",
     "output_type": "stream",
     "text": [
      "Finish training for (1, 'warp') combination\n",
      "Precision is: 2.9490617e-05\n",
      "Time taken: 66.98209285736084\n",
      "Finish training for (1, 'bpr') combination\n",
      "Precision is: 0.00016800714\n",
      "Time taken: 57.017768144607544\n",
      "Finish training for (10, 'warp') combination\n",
      "Precision is: 3.8427166e-05\n",
      "Time taken: 61.681060552597046\n",
      "Finish training for (10, 'bpr') combination\n",
      "Precision is: 2.4128685e-05\n",
      "Time taken: 49.98122024536133\n",
      "Finish training for (0.1, 'warp') combination\n",
      "Precision is: 0.0040080436\n",
      "Time taken: 53.60380220413208\n",
      "Finish training for (0.1, 'bpr') combination\n",
      "Precision is: 0.0010563002\n",
      "Time taken: 47.82618975639343\n"
     ]
    }
   ],
   "source": [
    "for i in param_choice:\n",
    "    start = time()\n",
    "    lightfm = LightFM(learning_rate = i[0], loss = i[1])\n",
    "    model = lightfm.fit(csr_train,epochs = 30)\n",
    "    print('Finish training for {} combination'.format(i))\n",
    "    print('Precision is: ' + str(precision_at_k(model, test_interactions = csr_validation, train_interactions = csr_train,k=500).mean()))\n",
    "    time_taken = time() - start\n",
    "    print('Time taken: ' + str(time_taken))"
   ]
  },
  {
   "cell_type": "markdown",
   "id": "reduced-senator",
   "metadata": {},
   "source": [
    "# Train on 10% of the training data"
   ]
  },
  {
   "cell_type": "code",
   "execution_count": 6,
   "id": "boolean-fancy",
   "metadata": {},
   "outputs": [],
   "source": [
    "df = train.sample(frac = 0.1,random_state=42)\n",
    "validation = validation[validation.user_id.isin(df.user_id)]\n",
    "validation = validation[validation.track_id.isin(df.track_id)]"
   ]
  },
  {
   "cell_type": "code",
   "execution_count": 7,
   "id": "lyric-tomato",
   "metadata": {},
   "outputs": [],
   "source": [
    "data = Dataset()\n",
    "data.fit_partial(df.user_id.unique(), df.track_id.unique())\n",
    "csr_train, train_weights = data.build_interactions(((x['user_id'], x['track_id']) for index,x in df.iterrows()))\n",
    "data.fit_partial(validation.user_id.unique(), validation.track_id.unique())\n",
    "csr_validation, validation_weights = data.build_interactions(((x['user_id'], x['track_id']) for index,x in validation.iterrows()))"
   ]
  },
  {
   "cell_type": "code",
   "execution_count": 8,
   "id": "particular-volume",
   "metadata": {},
   "outputs": [
    {
     "name": "stdout",
     "output_type": "stream",
     "text": [
      "Finish training for (1, 'warp') combination\n",
      "Precision is: 1.30331755e-05\n",
      "Time taken: 335.01461148262024\n",
      "Finish training for (1, 'bpr') combination\n",
      "Precision is: 0.00046267774\n",
      "Time taken: 252.49253726005554\n",
      "Finish training for (10, 'warp') combination\n",
      "Precision is: 2.2808059e-05\n",
      "Time taken: 294.813068151474\n",
      "Finish training for (10, 'bpr') combination\n",
      "Precision is: 1.007109e-05\n",
      "Time taken: 259.68553137779236\n",
      "Finish training for (0.1, 'warp') combination\n",
      "Precision is: 0.005136552\n",
      "Time taken: 279.66125082969666\n",
      "Finish training for (0.1, 'bpr') combination\n",
      "Precision is: 0.0030971563\n",
      "Time taken: 246.64594626426697\n"
     ]
    }
   ],
   "source": [
    "for i in param_choice:\n",
    "    start = time()\n",
    "    lightfm = LightFM(learning_rate = i[0], loss = i[1])\n",
    "    model = lightfm.fit(csr_train,epochs = 30)\n",
    "    print('Finish training for {} combination'.format(i))\n",
    "    print('Precision is: ' + str(precision_at_k(model, test_interactions = csr_validation, train_interactions = csr_train,k=500).mean()))\n",
    "    time_taken = time() - start\n",
    "    print('Time taken: ' + str(time_taken))"
   ]
  }
 ],
 "metadata": {
  "kernelspec": {
   "display_name": "Python 3",
   "language": "python",
   "name": "python3"
  },
  "language_info": {
   "codemirror_mode": {
    "name": "ipython",
    "version": 3
   },
   "file_extension": ".py",
   "mimetype": "text/x-python",
   "name": "python",
   "nbconvert_exporter": "python",
   "pygments_lexer": "ipython3",
   "version": "3.8.5"
  }
 },
 "nbformat": 4,
 "nbformat_minor": 5
}
